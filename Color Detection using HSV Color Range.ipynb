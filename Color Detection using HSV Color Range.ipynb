{
 "cells": [
  {
   "cell_type": "code",
   "execution_count": 1,
   "metadata": {
    "id": "rm2BGzzDvzfk"
   },
   "outputs": [],
   "source": [
    "import cv2 as cv\n",
    "#import common\n",
    "import numpy as np\n",
    "\n",
    "#the following are to do with this interactive notebook code\n",
    "%matplotlib inline \n",
    "from matplotlib import pyplot as plt\n",
    "import pylab\n",
    "pylab.rcParams['figure.figsize'] = (10.0, 8.0) # this controls figure size in the notebook"
   ]
  },
  {
   "cell_type": "markdown",
   "metadata": {},
   "source": [
    "<img src=\"image/Color Detection.png\" alt=\"lol\" style=\"height: 475px; width:200px;\"/>"
   ]
  },
  {
   "cell_type": "code",
   "execution_count": 6,
   "metadata": {},
   "outputs": [],
   "source": [
    "cap = cv.VideoCapture(0)\n",
    "cv.namedWindow('HSV Setting')\n",
    "\n",
    "def nothing(x):\n",
    "    pass\n",
    "\n",
    "# Create Trackbar\n",
    "cv.createTrackbar('l_H', 'HSV Setting', 99, 255, nothing)\n",
    "cv.createTrackbar('l_S', 'HSV Setting', 243, 255, nothing)\n",
    "cv.createTrackbar('l_V', 'HSV Setting', 108, 255, nothing)\n",
    "\n",
    "while True:\n",
    "    _, frame = cap.read()\n",
    "    \n",
    "    # Convert BGR2HSV\n",
    "    hsv = cv.cvtColor(frame, cv.COLOR_BGR2HSV)\n",
    "    \n",
    "    # Connect Trackbar to HSV value range\n",
    "    lh = cv.getTrackbarPos('l_H', 'HSV Setting')\n",
    "    ls = cv.getTrackbarPos('l_S', 'HSV Setting')\n",
    "    lv = cv.getTrackbarPos('l_V', 'HSV Setting')\n",
    "    \n",
    "    lower = np.array([lh,ls,lv])\n",
    "    upper = np.array([(255, 255, 255)])\n",
    "    mask = cv.inRange(hsv, lower, upper)\n",
    "    \n",
    "    # Dilation & Closing\n",
    "    dilation = cv.dilate(mask, (5,5), 5)\n",
    "    closing = cv.morphologyEx(dilation, cv.MORPH_CLOSE, (7,7))\n",
    "    \n",
    "    bitwise = cv.bitwise_and(frame, frame , mask=closing)\n",
    "    \n",
    "    cv.imshow('Masking', bitwise)\n",
    "    cv.imshow('Frame', frame)\n",
    "    if cv.waitKey(1)&0xFF==ord('q'):\n",
    "        break\n",
    "    \n",
    "cap.release()\n",
    "cv.destroyAllWindows()"
   ]
  },
  {
   "cell_type": "code",
   "execution_count": null,
   "metadata": {},
   "outputs": [],
   "source": []
  }
 ],
 "metadata": {
  "colab": {
   "provenance": []
  },
  "kernelspec": {
   "display_name": "Python 3 (ipykernel)",
   "language": "python",
   "name": "python3"
  },
  "language_info": {
   "codemirror_mode": {
    "name": "ipython",
    "version": 3
   },
   "file_extension": ".py",
   "mimetype": "text/x-python",
   "name": "python",
   "nbconvert_exporter": "python",
   "pygments_lexer": "ipython3",
   "version": "3.7.11"
  }
 },
 "nbformat": 4,
 "nbformat_minor": 1
}
